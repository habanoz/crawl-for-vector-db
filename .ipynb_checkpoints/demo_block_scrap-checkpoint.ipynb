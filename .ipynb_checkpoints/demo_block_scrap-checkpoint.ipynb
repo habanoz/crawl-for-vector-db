{
 "cells": [
  {
   "cell_type": "code",
   "execution_count": 12,
   "id": "ea3b5045-183d-418d-be30-e29943a13dab",
   "metadata": {},
   "outputs": [],
   "source": [
    "from langchain.text_splitter import TokenTextSplitter\n",
    "from lxml import etree\n",
    "from lxml.etree import HTMLParser\n",
    "from dfs_block_crawler import dom_to_text_list\n",
    "from clean_up import to_refined_text_map, remove_duplicate_text"
   ]
  },
  {
   "cell_type": "code",
   "execution_count": 13,
   "id": "9f5eaf30-99df-4de7-84f6-e424b693493f",
   "metadata": {},
   "outputs": [],
   "source": [
    "text_splitter = TokenTextSplitter(\n",
    "        chunk_size=100, chunk_overlap=20\n",
    "    )"
   ]
  },
  {
   "cell_type": "code",
   "execution_count": 14,
   "id": "a1c2638e-0a6b-4e55-aba6-65b9f2c7150b",
   "metadata": {},
   "outputs": [],
   "source": [
    "page1=\"\"\"<body>\n",
    "  <div>Britannica contains a lot of information.</div>\n",
    "<div>\n",
    "\n",
    "  <h1>Europe Countries</h1>\n",
    "  <div>\n",
    "    <h2>Germany\n",
    "    </h2>\n",
    "    <p>Germany, officially Federal Republic of Germany, German Deutschland or Bundesrepublik Deutschland, country of north-central Europe, traversing the continent’s main physical divisions, from the outer ranges of the Alps northward across the varied landscape of the Central German Uplands and then across the North German Plain.\n",
    "    </p>\n",
    "  </div>\n",
    "\n",
    "  <div>\n",
    "    <h2>France\n",
    "    </h2>\n",
    "    <p>France, officially French Republic, French France or République Française, country of northwestern Europe. Historically and culturally among the most important nations in the Western world, France has also played a highly significant role in international affairs, with former colonies in every corner of the globe.\n",
    "    </p>\n",
    "  </div>\n",
    "\n",
    "</div>\n",
    "</body>\"\"\""
   ]
  },
  {
   "cell_type": "code",
   "execution_count": 15,
   "id": "1ad809c2-14f9-4ae0-8316-c42ddd80a872",
   "metadata": {},
   "outputs": [],
   "source": [
    "page2=\"\"\"<body>\n",
    "  <div>Britannica contains a lot of information.</div>\n",
    "  <div>\n",
    "\n",
    "  <h1>Asia Countries</h1>\n",
    "  <div>\n",
    "    <h2>China\n",
    "    </h2>\n",
    "    <p>China, Chinese (Pinyin) Zhonghua or (Wade-Giles romanization) Chung-hua, also spelled (Pinyin) Zhongguo or (Wade-Giles romanization) Chung-kuo, officially People’s Republic of China or Chinese (Pinyin) Zhonghua Renmin Gongheguo or (Wade-Giles romanization) Chung-hua Jen-min Kung-ho-kuo, country of East Asia. It is the largest of all Asian countries and has the largest population of any country in the world. \n",
    "    </p>\n",
    "  </div>\n",
    "\n",
    "  <div>\n",
    "    <h2>India\n",
    "    </h2>\n",
    "    <p>India, country that occupies the greater part of South Asia. Its capital is New Delhi, built in the 20th century just south of the historic hub of Old Delhi to serve as India’s administrative centre. Its government is a constitutional republic that represents a highly diverse population consisting of thousands of ethnic groups and likely hundreds of languages.\n",
    "    </p>\n",
    "  </div>\n",
    "  </div>\n",
    "</body>\"\"\""
   ]
  },
  {
   "cell_type": "code",
   "execution_count": 16,
   "id": "094b8faf-d12e-4ac4-8cbc-0b4d17a31983",
   "metadata": {},
   "outputs": [],
   "source": [
    "dom = etree.HTML(page1, parser=HTMLParser(remove_comments=True))\n",
    "texts = dom_to_text_list(dom)\n",
    "docs1 = text_splitter.create_documents(texts)"
   ]
  },
  {
   "cell_type": "code",
   "execution_count": 17,
   "id": "b848d351-6174-4968-83ad-8368c5c23862",
   "metadata": {},
   "outputs": [
    {
     "data": {
      "text/plain": [
       "['\\n\\n',\n",
       " 'Britannica contains a lot of information.',\n",
       " 'Europe Countries:',\n",
       " 'Germany: Germany, officially Federal Republic of Germany, German Deutschland or Bundesrepublik Deutschland, country of north-central Europe, traversing the continent’s main physical divisions, from the outer ranges of the Alps northward across the varied landscape of the Central German Uplands and then across the North German Plain.',\n",
       " 'France: France, officially French Republic, French France or République Française, country of northwestern Europe. Historically and culturally among the most important nations in the Western world, France has also played a highly significant role in international affairs, with former colonies in every corner of the globe.']"
      ]
     },
     "execution_count": 17,
     "metadata": {},
     "output_type": "execute_result"
    }
   ],
   "source": [
    "[p.page_content for p in docs1]"
   ]
  },
  {
   "cell_type": "code",
   "execution_count": 18,
   "id": "e0bae3fb-1c14-4407-9d31-9566fbbcc44e",
   "metadata": {},
   "outputs": [],
   "source": [
    "dom = etree.HTML(page2, parser=HTMLParser(remove_comments=True))\n",
    "texts = dom_to_text_list(dom)\n",
    "docs2 = text_splitter.create_documents(texts)"
   ]
  },
  {
   "cell_type": "code",
   "execution_count": 19,
   "id": "d292eac5-34ac-409c-8581-12a9c64f084d",
   "metadata": {},
   "outputs": [
    {
     "data": {
      "text/plain": [
       "['\\n  \\n',\n",
       " 'Britannica contains a lot of information.',\n",
       " 'Asia Countries:',\n",
       " 'China: China, Chinese (Pinyin) Zhonghua or (Wade-Giles romanization) Chung-hua, also spelled (Pinyin) Zhongguo or (Wade-Giles romanization) Chung-kuo, officially People’s Republic of China or Chinese (Pinyin) Zhonghua Renmin Gongheguo or (Wade-Giles romanization) Chung-hua Jen-min Kung-ho-',\n",
       " ' (Wade-Giles romanization) Chung-hua Jen-min Kung-ho-kuo, country of East Asia. It is the largest of all Asian countries and has the largest population of any country in the world.',\n",
       " 'India: India, country that occupies the greater part of South Asia. Its capital is New Delhi, built in the 20th century just south of the historic hub of Old Delhi to serve as India’s administrative centre. Its government is a constitutional republic that represents a highly diverse population consisting of thousands of ethnic groups and likely hundreds of languages.']"
      ]
     },
     "execution_count": 19,
     "metadata": {},
     "output_type": "execute_result"
    }
   ],
   "source": [
    "[p.page_content for p in docs2]"
   ]
  },
  {
   "cell_type": "code",
   "execution_count": 32,
   "id": "e6a7569d-80f4-42ff-b367-fb0e84f4e0a9",
   "metadata": {},
   "outputs": [],
   "source": [
    "url_text_map = {}\n",
    "url_text_map['page1']= [page.page_content for page in docs1]\n",
    "url_text_map['page2']= [page.page_content for page in docs2]\n",
    "refined_url_text_map = to_refined_text_map(url_text_map, 0, 0)\n",
    "removed_duplicates_text = remove_duplicate_text(refined_url_text_map)"
   ]
  },
  {
   "cell_type": "code",
   "execution_count": 34,
   "id": "e2119b0e-914d-441b-9d65-dc7a86a63104",
   "metadata": {},
   "outputs": [
    {
     "data": {
      "text/plain": [
       "['Britannica contains a lot of information.',\n",
       " 'Germany: Germany, officially Federal Republic of Germany, German Deutschland or Bundesrepublik Deutschland, country of north-central Europe, traversing the continent’s main physical divisions, from the outer ranges of the Alps northward across the varied landscape of the Central German Uplands and then across the North German Plain.',\n",
       " 'France: France, officially French Republic, French France or République Française, country of northwestern Europe. Historically and culturally among the most important nations in the Western world, France has also played a highly significant role in international affairs, with former colonies in every corner of the globe.',\n",
       " 'Europe Countries:']"
      ]
     },
     "execution_count": 34,
     "metadata": {},
     "output_type": "execute_result"
    }
   ],
   "source": [
    "removed_duplicates_text['page1']"
   ]
  },
  {
   "cell_type": "code",
   "execution_count": 35,
   "id": "a7e9137a-ca49-4fc4-ace1-7ec64a3380e7",
   "metadata": {},
   "outputs": [
    {
     "data": {
      "text/plain": [
       "['China: China, Chinese (Pinyin) Zhonghua or (Wade-Giles romanization) Chung-hua, also spelled (Pinyin) Zhongguo or (Wade-Giles romanization) Chung-kuo, officially People’s Republic of China or Chinese (Pinyin) Zhonghua Renmin Gongheguo or (Wade-Giles romanization) Chung-hua Jen-min Kung-ho-',\n",
       " 'India: India, country that occupies the greater part of South Asia. Its capital is New Delhi, built in the 20th century just south of the historic hub of Old Delhi to serve as India’s administrative centre. Its government is a constitutional republic that represents a highly diverse population consisting of thousands of ethnic groups and likely hundreds of languages.',\n",
       " 'Asia Countries:',\n",
       " ' (Wade-Giles romanization) Chung-hua Jen-min Kung-ho-kuo, country of East Asia. It is the largest of all Asian countries and has the largest population of any country in the world.']"
      ]
     },
     "execution_count": 35,
     "metadata": {},
     "output_type": "execute_result"
    }
   ],
   "source": [
    "removed_duplicates_text['page2']"
   ]
  },
  {
   "cell_type": "code",
   "execution_count": null,
   "id": "65013ba1-bf7a-4df1-8a4b-f7fd14633a70",
   "metadata": {},
   "outputs": [],
   "source": []
  }
 ],
 "metadata": {
  "kernelspec": {
   "display_name": "Python 3 (ipykernel)",
   "language": "python",
   "name": "python3"
  },
  "language_info": {
   "codemirror_mode": {
    "name": "ipython",
    "version": 3
   },
   "file_extension": ".py",
   "mimetype": "text/x-python",
   "name": "python",
   "nbconvert_exporter": "python",
   "pygments_lexer": "ipython3",
   "version": "3.8.10"
  }
 },
 "nbformat": 4,
 "nbformat_minor": 5
}
